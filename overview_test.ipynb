{
 "cells": [
  {
   "cell_type": "code",
   "execution_count": null,
   "metadata": {},
   "outputs": [],
   "source": [
    "import torch\n",
    "import sys\n",
    "import os\n",
    "import pickle"
   ]
  },
  {
   "cell_type": "code",
   "execution_count": null,
   "metadata": {},
   "outputs": [],
   "source": [
    "data_pkl = open('data/sarcasm/sarcasm.pkl','rb')\n",
    "data = pickle.load(data_pkl)"
   ]
  },
  {
   "cell_type": "code",
   "execution_count": null,
   "metadata": {},
   "outputs": [
    {
     "name": "stdout",
     "output_type": "stream",
     "text": [
      "dict_keys(['train', 'valid', 'test'])\n",
      "dict_keys(['text', 'audio', 'vision', 'labels', 'id'])\n"
     ]
    }
   ],
   "source": [
    "# data structure: nested dictionary\n",
    "\n",
    "print(data.keys())\n",
    "print(data[\"test\"].keys())"
   ]
  },
  {
   "cell_type": "code",
   "execution_count": null,
   "metadata": {},
   "outputs": [
    {
     "name": "stdout",
     "output_type": "stream",
     "text": [
      "(138, 50, 300)\n",
      "(138, 50, 81)\n",
      "(138, 50, 371)\n",
      "138\n"
     ]
    }
   ],
   "source": [
    "# data dimension\n",
    "\n",
    "print(data[\"test\"][\"text\"].shape)\n",
    "print(data[\"test\"][\"audio\"].shape)\n",
    "print(data[\"test\"][\"vision\"].shape)\n",
    "print(len(data[\"test\"][\"id\"]))"
   ]
  }
 ],
 "metadata": {
  "kernelspec": {
   "display_name": "Python 3.8.13 ('base')",
   "language": "python",
   "name": "python3"
  },
  "language_info": {
   "name": "python",
   "version": "3.8.13"
  },
  "orig_nbformat": 4,
  "vscode": {
   "interpreter": {
    "hash": "81c0a520ab9d5f38718f11fc8e39c528dfdc4be4c6d24f2eb9940d412ba4096a"
   }
  }
 },
 "nbformat": 4,
 "nbformat_minor": 2
}
