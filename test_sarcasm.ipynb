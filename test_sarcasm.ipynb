{
 "cells": [
  {
   "cell_type": "code",
   "execution_count": 25,
   "metadata": {},
   "outputs": [],
   "source": [
    "from datasets.affect.get_data import get_dataloader\n",
    "import numpy as np\n",
    "import random\n",
    "import pickle\n",
    "from operator import length_hint \n",
    "import torch"
   ]
  },
  {
   "cell_type": "code",
   "execution_count": 15,
   "metadata": {},
   "outputs": [],
   "source": [
    "traindata, validdata, testdata = get_dataloader('data/sarcasm/sarcasm.pkl', data_type='sarcasm')\n",
    "text_file_pkl = open('data/sarcasm/sarcasm_raw_text.pkl','rb')\n",
    "text_file = pickle.load(text_file_pkl)"
   ]
  },
  {
   "cell_type": "markdown",
   "metadata": {},
   "source": [
    "#### Data structure"
   ]
  },
  {
   "cell_type": "markdown",
   "metadata": {},
   "source": [
    "##### max_pad = False"
   ]
  },
  {
   "cell_type": "code",
   "execution_count": 2,
   "metadata": {},
   "outputs": [],
   "source": [
    "iter_ = next(iter(traindata))"
   ]
  },
  {
   "cell_type": "code",
   "execution_count": 14,
   "metadata": {},
   "outputs": [
    {
     "name": "stdout",
     "output_type": "stream",
     "text": [
      "audio, visual, language of examples in the first batch\n",
      "torch.Size([32, 26, 371])\n",
      "torch.Size([32, 26, 81])\n",
      "torch.Size([32, 26, 300])\n",
      "\n",
      "\n",
      "audio information of the first instance in the first batch\n",
      "torch.Size([26, 371])\n",
      "\n",
      "\n",
      "processed_input_lengths\n",
      "tensor([12, 16, 10, 10,  8,  9, 11,  9,  3,  7, 26, 17,  1, 22,  9,  5, 12, 10,\n",
      "        10, 14,  6, 23, 14,  9, 15,  9,  6, 14, 10,  6, 20,  9])\n",
      "\n",
      "\n",
      "pytorch index of  each example in the entire dataset\n",
      "torch.Size([32, 1])\n",
      "\n",
      "\n",
      "label for examples in each batch\n",
      "torch.Size([32, 1])\n",
      "\n",
      "\n",
      "Index for sentences in each batch\n",
      "['1_6221', '1_7675', '2_257', '1_3177', '2_66', '1_2464', '2_137', '2_375', '2_86', '1_7357', '2_167', '2_594', '2_264', '1_5699', '2_599', '2_89', '1_5109', '1_1189', '2_9', '2_151', '2_194', '1_12275', '1_10004', '2_84', '2_338', '1_10977', '2_74', '1_11322', '2_3', '2_585', '2_317', '2_287']\n",
      "\n",
      "\n"
     ]
    }
   ],
   "source": [
    "print(\"audio, visual, language of examples in the first batch\")\n",
    "for i in [0, 1, 2]:\n",
    "  print(iter_[0][i].shape)\n",
    "print(\"\\n\")\n",
    "\n",
    "print(\"audio information of the first instance in the first batch\") \n",
    "print(iter_[0][0][0].shape)\n",
    "print(\"\\n\")\n",
    "\n",
    "# the actual length of each example in the batch without padding\n",
    "print(\"processed_input_lengths\")\n",
    "print(iter_[1][0])\n",
    "print(\"\\n\")\n",
    "\n",
    "print(\"pytorch index of  each example in the entire dataset\")\n",
    "print(iter_[2].shape)\n",
    "print(\"\\n\")\n",
    "\n",
    "print(\"label for examples in each batch\")\n",
    "print(iter_[3].shape)\n",
    "print(\"\\n\")\n",
    "\n",
    "print(\"Index for sentences in each batch\")\n",
    "print(iter_[4])\n",
    "print(\"\\n\")\n"
   ]
  },
  {
   "cell_type": "markdown",
   "metadata": {},
   "source": [
    "##### max_pad = True"
   ]
  },
  {
   "cell_type": "code",
   "execution_count": 39,
   "metadata": {},
   "outputs": [],
   "source": [
    "traindata, validdata, testdata = get_dataloader('data/sarcasm/sarcasm.pkl', max_pad = True, data_type='sarcasm')\n",
    "iter_ = next(iter(traindata))"
   ]
  },
  {
   "cell_type": "code",
   "execution_count": 41,
   "metadata": {},
   "outputs": [
    {
     "data": {
      "text/plain": [
       "tensor([[ 1.],\n",
       "        [-1.],\n",
       "        [ 1.],\n",
       "        [ 1.],\n",
       "        [-1.],\n",
       "        [ 1.],\n",
       "        [ 1.],\n",
       "        [ 1.],\n",
       "        [-1.],\n",
       "        [-1.],\n",
       "        [ 1.],\n",
       "        [ 1.],\n",
       "        [ 1.],\n",
       "        [ 1.],\n",
       "        [-1.],\n",
       "        [-1.],\n",
       "        [ 1.],\n",
       "        [ 1.],\n",
       "        [ 1.],\n",
       "        [-1.],\n",
       "        [ 1.],\n",
       "        [ 1.],\n",
       "        [-1.],\n",
       "        [ 1.],\n",
       "        [-1.],\n",
       "        [-1.],\n",
       "        [ 1.],\n",
       "        [-1.],\n",
       "        [-1.],\n",
       "        [-1.],\n",
       "        [ 1.],\n",
       "        [-1.]])"
      ]
     },
     "execution_count": 41,
     "metadata": {},
     "output_type": "execute_result"
    }
   ],
   "source": [
    "iter_[-2]"
   ]
  },
  {
   "cell_type": "code",
   "execution_count": 7,
   "metadata": {},
   "outputs": [
    {
     "name": "stdout",
     "output_type": "stream",
     "text": [
      "audio, visual, language of examples in the first batch\n",
      "torch.Size([32, 50, 371])\n",
      "torch.Size([32, 50, 81])\n",
      "torch.Size([32, 50, 300])\n",
      "\n",
      "\n",
      "audio information of the first instance in the first batch\n",
      "torch.Size([50, 371])\n",
      "\n",
      "\n",
      "label for each sentence in each batch\n",
      "torch.Size([32, 1])\n",
      "\n",
      "\n",
      "Index for each sentence in each batch\n",
      "['2_74', '2_246', '1_11242', '2_131', '1_6769', '1_8159', '1_276', '2_316', '1_8042', '1_5699', '2_495', '2_477', '1_7575', '2_226', '1_3256', '1_3069', '1_2669', '2_33', '1_1262', '2_161', '2_172', '1_3293', '2_343', '1_11924', '1_9003', '1_1180', '1_2819', '2_559', '1_1185', '2_430', '2_377', '2_438']\n",
      "\n",
      "\n"
     ]
    }
   ],
   "source": [
    "print(\"audio, visual, language of examples in the first batch\")\n",
    "for i in [0, 1, 2]:\n",
    "  print(iter_[i].shape)\n",
    "print(\"\\n\")\n",
    "\n",
    "print(\"audio information of the first instance in the first batch\") \n",
    "print(iter_[0][1].shape)\n",
    "print(\"\\n\")\n",
    "\n",
    "\n",
    "print(\"label for each sentence in each batch\")\n",
    "print(iter_[3].shape)\n",
    "print(\"\\n\")\n",
    "\n",
    "print(\"Index for each sentence in each batch\")\n",
    "print(iter_[4])\n",
    "print(\"\\n\")"
   ]
  },
  {
   "cell_type": "markdown",
   "metadata": {},
   "source": [
    "#### Modifying sentences"
   ]
  },
  {
   "cell_type": "markdown",
   "metadata": {},
   "source": [
    "##### max_pad = False"
   ]
  },
  {
   "cell_type": "code",
   "execution_count": 16,
   "metadata": {},
   "outputs": [],
   "source": [
    "iter_ = next(iter(traindata))"
   ]
  },
  {
   "cell_type": "code",
   "execution_count": 176,
   "metadata": {},
   "outputs": [
    {
     "data": {
      "text/plain": [
       "tensor([0., 0., 0., 0., 0., 0., 0., 0., 0., 0., 0., 0., 0., 0., 0., 0., 0., 0., 0., 0., 0., 0., 0., 0.,\n",
       "        0., 0., 0., 0., 0., 0., 0., 0., 0., 0., 0., 0., 0., 0., 0., 0., 0., 0., 0., 0., 0., 0., 0., 0.,\n",
       "        0., 0., 0., 0., 0., 0., 0., 0., 0., 0., 0., 0., 0., 0., 0., 0., 0., 0., 0., 0., 0., 0., 0., 0.,\n",
       "        0., 0., 0., 0., 0., 0., 0., 0., 0., 0., 0., 0., 0., 0., 0., 0., 0., 0., 0., 0., 0., 0., 0., 0.,\n",
       "        0., 0., 0., 0., 0., 0., 0., 0., 0., 0., 0., 0., 0., 0., 0., 0., 0., 0., 0., 0., 0., 0., 0., 0.,\n",
       "        0., 0., 0., 0., 0., 0., 0., 0., 0., 0., 0., 0., 0., 0., 0., 0., 0., 0., 0., 0., 0., 0., 0., 0.,\n",
       "        0., 0., 0., 0., 0., 0., 0., 0., 0., 0., 0., 0., 0., 0., 0., 0., 0., 0., 0., 0., 0., 0., 0., 0.,\n",
       "        0., 0., 0., 0., 0., 0., 0., 0., 0., 0., 0., 0., 0., 0., 0., 0., 0., 0., 0., 0., 0., 0., 0., 0.,\n",
       "        0., 0., 0., 0., 0., 0., 0., 0., 0., 0., 0., 0., 0., 0., 0., 0., 0., 0., 0., 0., 0., 0., 0., 0.,\n",
       "        0., 0., 0., 0., 0., 0., 0., 0., 0., 0., 0., 0., 0., 0., 0., 0., 0., 0., 0., 0., 0., 0., 0., 0.,\n",
       "        0., 0., 0., 0., 0., 0., 0., 0., 0., 0., 0., 0., 0., 0., 0., 0., 0., 0., 0., 0., 0., 0., 0., 0.,\n",
       "        0., 0., 0., 0., 0., 0., 0., 0., 0., 0., 0., 0., 0., 0., 0., 0., 0., 0., 0., 0., 0., 0., 0., 0.,\n",
       "        0., 0., 0., 0., 0., 0., 0., 0., 0., 0., 0., 0.])"
      ]
     },
     "execution_count": 176,
     "metadata": {},
     "output_type": "execute_result"
    }
   ],
   "source": [
    "torch.zeros(iter_[0][2][0][-1].shape)"
   ]
  },
  {
   "cell_type": "code",
   "execution_count": 175,
   "metadata": {},
   "outputs": [
    {
     "data": {
      "text/plain": [
       "torch.Size([300])"
      ]
     },
     "execution_count": 175,
     "metadata": {},
     "output_type": "execute_result"
    }
   ],
   "source": [
    "iter_[0][2][0][-1].shape"
   ]
  },
  {
   "cell_type": "code",
   "execution_count": null,
   "metadata": {},
   "outputs": [],
   "source": []
  },
  {
   "cell_type": "code",
   "execution_count": 145,
   "metadata": {},
   "outputs": [
    {
     "data": {
      "text/plain": [
       "torch.Size([35, 81])"
      ]
     },
     "execution_count": 145,
     "metadata": {},
     "output_type": "execute_result"
    }
   ],
   "source": [
    "np.delete(iter_[0][1][0],[1,2],0).shape"
   ]
  },
  {
   "cell_type": "code",
   "execution_count": 19,
   "metadata": {},
   "outputs": [],
   "source": [
    "def pick_word_rand(label, len_sent):\n",
    "    replace_term = round(len_sent * 0.1)\n",
    "    return random.sample(range(0, len_sent), replace_term)"
   ]
  },
  {
   "cell_type": "code",
   "execution_count": 150,
   "metadata": {},
   "outputs": [
    {
     "name": "stdout",
     "output_type": "stream",
     "text": [
      "0 11 [1] torch.Size([29, 300])\n",
      "1 17 [2, 7] torch.Size([29, 300])\n",
      "2 14 [5] torch.Size([29, 300])\n",
      "3 10 [0] torch.Size([29, 300])\n",
      "5 13 [7] torch.Size([29, 300])\n",
      "6 12 [7] torch.Size([29, 300])\n",
      "7 13 [6] torch.Size([29, 300])\n",
      "8 12 [8] torch.Size([29, 300])\n",
      "9 16 [8, 14] torch.Size([29, 300])\n",
      "12 10 [4] torch.Size([29, 300])\n",
      "13 13 [8] torch.Size([29, 300])\n",
      "14 19 [11, 2] torch.Size([29, 300])\n",
      "15 21 [4, 1] torch.Size([29, 300])\n",
      "16 10 [8] torch.Size([29, 300])\n",
      "17 11 [0] torch.Size([29, 300])\n",
      "19 29 [5, 4, 21] torch.Size([29, 300])\n",
      "20 27 [22, 25, 6] torch.Size([29, 300])\n",
      "21 19 [17, 16] torch.Size([29, 300])\n",
      "22 29 [12, 11, 2] torch.Size([29, 300])\n",
      "23 13 [0] torch.Size([29, 300])\n",
      "25 10 [0] torch.Size([29, 300])\n",
      "26 11 [6] torch.Size([29, 300])\n",
      "28 25 [13, 17] torch.Size([29, 300])\n",
      "29 15 [12, 2] torch.Size([29, 300])\n"
     ]
    }
   ],
   "source": [
    "for iter_ in traindata:\n",
    "    for idx, label_sent in enumerate(iter_[-1]):\n",
    "        len_sent = length_hint(text_file[label_sent])\n",
    "        if len_sent >= 10:\n",
    "            word_index = pick_word_rand(label_sent, len_sent)\n",
    "            vision_sent = iter_[0][0][idx]\n",
    "            audio_sent = iter_[0][1][idx]\n",
    "            text_sent = iter_[0][2][idx]\n",
    "            print(idx, len_sent, word_index)\n",
    "            # print(idx, len_sent)\n",
    "            # count_10 += 1\n",
    "\n",
    "            # np.delete(a, [1,2,3], 1)\n",
    "    break"
   ]
  },
  {
   "cell_type": "code",
   "execution_count": 242,
   "metadata": {},
   "outputs": [
    {
     "name": "stdout",
     "output_type": "stream",
     "text": [
      "torch.Size([32, 29, 371])\n"
     ]
    }
   ],
   "source": [
    "vison_batch = []\n",
    "audio_batch = []\n",
    "text_batch = []\n",
    "\n",
    "for idx, label_sent in enumerate(iter_[-1]):\n",
    "    len_sent = length_hint(text_file[label_sent])\n",
    "    \n",
    "    \n",
    "    # For each sentence that lengths greater than 10, we modify the sentence\n",
    "    if len_sent >= 10:\n",
    "        print(iter_[1][idx])\n",
    "        \n",
    "        # Retuen index for the words in a sentence that need to be changed \n",
    "        word_index = pick_word_rand(label_sent, len_sent)\n",
    "\n",
    "        # Delete words and pad for each modality: vision, audio and text\n",
    "        for num in range(3):\n",
    "            original_sent = iter_[0][num][idx]\n",
    "\n",
    "            # delete\n",
    "            modify_sent = np.delete(original_sent,word_index, 0)\n",
    "\n",
    "            # pad\n",
    "            pad_sent = torch.zeros(length_hint(word_index), modify_sent.shape[1])\n",
    "            final_sent = torch.cat((modify_sent, pad_sent), 0)\n",
    "\n",
    "            # concatenate\n",
    "            if num == 0:\n",
    "                vison_batch.append(final_sent.tolist())\n",
    "            elif num == 1:\n",
    "                audio_batch.append(final_sent.tolist())\n",
    "            else:\n",
    "                text_batch.append(final_sent.tolist())\n",
    "\n",
    "    # otherwise, we use the original embedding\n",
    "    else:\n",
    "        vison_batch.append(iter_[0][0][idx])\n",
    "        audio_batch.append(iter_[0][1][idx])\n",
    "        text_batch.append(iter_[0][2][idx])\n",
    "\n",
    "        \n",
    "print(torch.tensor(vison_batch).shape)\n",
    "        "
   ]
  },
  {
   "cell_type": "code",
   "execution_count": 250,
   "metadata": {},
   "outputs": [
    {
     "data": {
      "text/plain": [
       "[tensor([11, 17, 14, 10,  9, 13, 12, 13, 12, 15,  8,  1, 10, 13, 19, 21, 10, 11,\n",
       "          4, 29, 27, 19, 29, 13,  9, 10, 11,  5, 25, 15,  7,  7]),\n",
       " tensor([11, 17, 14, 10,  9, 13, 12, 13, 12, 15,  8,  1, 10, 13, 19, 21, 10, 11,\n",
       "          4, 29, 27, 19, 29, 13,  9, 10, 11,  5, 25, 15,  7,  7]),\n",
       " tensor([11, 17, 14, 10,  9, 13, 12, 13, 12, 15,  8,  1, 10, 13, 19, 21, 10, 11,\n",
       "          4, 29, 27, 19, 29, 13,  9, 10, 11,  5, 25, 15,  7,  7])]"
      ]
     },
     "execution_count": 250,
     "metadata": {},
     "output_type": "execute_result"
    }
   ],
   "source": [
    "iter_[1]"
   ]
  },
  {
   "cell_type": "code",
   "execution_count": 248,
   "metadata": {},
   "outputs": [
    {
     "data": {
      "text/plain": [
       "['Lovely']"
      ]
     },
     "execution_count": 248,
     "metadata": {},
     "output_type": "execute_result"
    }
   ],
   "source": [
    "text_file[\"2_474\"]"
   ]
  },
  {
   "cell_type": "markdown",
   "metadata": {},
   "source": [
    "##### max_pad = True"
   ]
  },
  {
   "cell_type": "markdown",
   "metadata": {},
   "source": []
  },
  {
   "cell_type": "code",
   "execution_count": 18,
   "metadata": {},
   "outputs": [],
   "source": [
    "traindata, validdata, testdata = get_dataloader('data/sarcasm/sarcasm.pkl', max_pad=True ,data_type='sarcasm')\n",
    "iter_ = next(iter(traindata))"
   ]
  },
  {
   "cell_type": "code",
   "execution_count": 38,
   "metadata": {},
   "outputs": [
    {
     "data": {
      "text/plain": [
       "<torch.utils.data.dataloader.DataLoader at 0x7f8239280d60>"
      ]
     },
     "execution_count": 38,
     "metadata": {},
     "output_type": "execute_result"
    }
   ],
   "source": [
    "traindata"
   ]
  },
  {
   "cell_type": "code",
   "execution_count": 27,
   "metadata": {},
   "outputs": [
    {
     "name": "stdout",
     "output_type": "stream",
     "text": [
      "[2] 10\n",
      "[2] 14\n",
      "[17, 1] 18\n",
      "[8, 4] 22\n",
      "[2, 14] 16\n",
      "[12, 6] 17\n",
      "[5] 12\n",
      "[5] 10\n",
      "[9] 11\n",
      "[6] 14\n",
      "[10, 0] 19\n",
      "[8] 14\n",
      "[16, 12] 21\n",
      "[3, 13] 17\n",
      "[9, 8] 18\n",
      "[9] 13\n",
      "[2] 11\n",
      "[16, 20, 2] 26\n",
      "[0] 11\n"
     ]
    }
   ],
   "source": [
    "vison_batch = []\n",
    "audio_batch = []\n",
    "text_batch = []\n",
    "\n",
    "for idx, label_sent in enumerate(iter_[-1]):\n",
    "    len_sent = length_hint(text_file[label_sent])\n",
    "    \n",
    "    # If the length of each sentence is less than 10, we use the original embedding.\n",
    "    if len_sent < 10:\n",
    "        vison_batch.append(iter_[0][idx])\n",
    "        audio_batch.append(iter_[1][idx])\n",
    "        text_batch.append(iter_[2][idx])\n",
    "    \n",
    "    # We we modify the sentence\n",
    "    else:\n",
    "        # Retuen index for the words in a sentence that need to be changed \n",
    "        word_index = pick_word_rand(label_sent, len_sent)\n",
    "        print(word_index, len_sent)\n",
    "        \n",
    "        # Delete words and pad for each modality: vision, audio and text\n",
    "        for num in range(3):\n",
    "            original_sent = iter_[num][idx]\n",
    "            \n",
    "            # delete\n",
    "            modify_sent = np.delete(original_sent,word_index, 0)\n",
    "\n",
    "            # pad\n",
    "            pad_sent = torch.zeros(length_hint(word_index), modify_sent.shape[1])\n",
    "            final_sent = torch.cat((modify_sent, pad_sent), 0)\n",
    "\n",
    "            # concatenate\n",
    "            if num == 0:\n",
    "                vison_batch.append(final_sent.tolist())\n",
    "            elif num == 1:\n",
    "                audio_batch.append(final_sent.tolist())\n",
    "            else:\n",
    "                text_batch.append(final_sent.tolist())"
   ]
  }
 ],
 "metadata": {
  "kernelspec": {
   "display_name": "Python 3.8.13 ('base')",
   "language": "python",
   "name": "python3"
  },
  "language_info": {
   "codemirror_mode": {
    "name": "ipython",
    "version": 3
   },
   "file_extension": ".py",
   "mimetype": "text/x-python",
   "name": "python",
   "nbconvert_exporter": "python",
   "pygments_lexer": "ipython3",
   "version": "3.8.13"
  },
  "orig_nbformat": 4,
  "vscode": {
   "interpreter": {
    "hash": "81c0a520ab9d5f38718f11fc8e39c528dfdc4be4c6d24f2eb9940d412ba4096a"
   }
  }
 },
 "nbformat": 4,
 "nbformat_minor": 2
}
